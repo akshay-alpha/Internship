{
 "cells": [
  {
   "cell_type": "markdown",
   "id": "ee1a8908",
   "metadata": {},
   "source": [
    "#### 11. Write a python program to find the factorial of a number. "
   ]
  },
  {
   "cell_type": "code",
   "execution_count": 1,
   "id": "abfb6c95",
   "metadata": {},
   "outputs": [
    {
     "name": "stdout",
     "output_type": "stream",
     "text": [
      "Enter a number to find factorial:\n",
      "5\n",
      "The factorial of 5 is 120\n"
     ]
    }
   ],
   "source": [
    "#take the input from user\n",
    "x = int(input(\"Enter a number to find factorial:\\n\"))\n",
    "#factorial can be calcuated for positive numbers\n",
    "if x>0:\n",
    "    #set factorial to 1\n",
    "    fact=1\n",
    "    for i in range(1,x+1):\n",
    "        # factorial  = x*(x-1)!\n",
    "        fact = fact*i\n",
    "    print(\"The factorial of %d is %d\"%(x,fact))\n",
    "else:\n",
    "    print(\"factorial doesnot exist\")"
   ]
  },
  {
   "cell_type": "markdown",
   "id": "6bff54b1",
   "metadata": {},
   "source": [
    "#### 12. Write a python program to find whether a number is prime or composite."
   ]
  },
  {
   "cell_type": "code",
   "execution_count": 2,
   "id": "644e3c00",
   "metadata": {},
   "outputs": [
    {
     "name": "stdout",
     "output_type": "stream",
     "text": [
      "Enter a number to check if it is prime or composite:\n",
      "1237\n",
      "1237 is prime\n"
     ]
    }
   ],
   "source": [
    "#take input from user\n",
    "n = int(input(\"Enter a number to check if it is prime or composite:\\n\"))\n",
    "#define flag to false\n",
    "flag = False\n",
    "\n",
    "#prime number is number which is divisible by 1 and itself\n",
    "if n > 1:\n",
    "    for i in range(2,n):\n",
    "        if (n % i) == 0:\n",
    "            #if condition is proved, set flag as true \n",
    "            print(n,\"is not prime number\")\n",
    "            #break out of loop\n",
    "            break\n",
    "        else:\n",
    "            print(n,\"is prime\")\n",
    "            break"
   ]
  },
  {
   "cell_type": "markdown",
   "id": "f734fbf0",
   "metadata": {},
   "source": [
    "#### 13. Write a python program to check whether a given string is palindrome or not."
   ]
  },
  {
   "cell_type": "code",
   "execution_count": 4,
   "id": "1cd05872",
   "metadata": {},
   "outputs": [
    {
     "name": "stdout",
     "output_type": "stream",
     "text": [
      "Enter a string to check palindrome:\n",
      "data trained\n",
      "\n",
      "data trained - string is not palindrome\n"
     ]
    }
   ],
   "source": [
    "#getting the input string from user\n",
    "str1 = str(input(\"Enter a string to check palindrome:\\n\"))\n",
    "\n",
    "#using string index slicing to reverse the string \n",
    "#storing it in other variable to compare\n",
    "str2 = str1[-1::-1]\n",
    "if str1 == str2:\n",
    "    print(\"\\n %s - string is palindrome\"%str1)\n",
    "else:\n",
    "    print(\"\\n%s - string is not palindrome\"%str1)"
   ]
  },
  {
   "cell_type": "markdown",
   "id": "b8005de0",
   "metadata": {},
   "source": [
    "#### 14. Write a Python program to get the third side of right-angled triangle from two given sides."
   ]
  },
  {
   "cell_type": "code",
   "execution_count": 5,
   "id": "99ae2364",
   "metadata": {},
   "outputs": [],
   "source": [
    "#to find the squareroot value of each side\n",
    "import math\n",
    "\n",
    "#define a function with 3 sides as parameters\n",
    "def pythagoras(opp,adj,hyp):\n",
    "    #check the 2 values given and find the third side by applying formula\n",
    "    #a2 = b2+c2\n",
    "    if hyp == str('x'):\n",
    "        return (\"The Hypotenuse side = \"+ str(math.sqrt((opp**2)+ (adj**2))))\n",
    "    elif adj == str('x'):\n",
    "        return (\"The Adjacent side = \"+ str(math.sqrt((hyp**2)-(opp**2))))\n",
    "    elif opp == str('x'):\n",
    "        return (\"The Opposite side = \"+ str(math.sqrt((hyp**2)-(adj**2))))\n",
    "    else:\n",
    "        return \"value found!\""
   ]
  },
  {
   "cell_type": "code",
   "execution_count": 6,
   "id": "c66fef28",
   "metadata": {},
   "outputs": [
    {
     "name": "stdout",
     "output_type": "stream",
     "text": [
      "The Hypotenuse side = 5.0\n",
      "The Adjacent side = 4.898979485566356\n",
      "The Opposite side = 2.6457513110645907\n"
     ]
    }
   ],
   "source": [
    "#call the function with changing the parameters\n",
    "print(pythagoras(4,3,'x'))\n",
    "print(pythagoras(5,'x',7))\n",
    "print(pythagoras('x',3,4))\n"
   ]
  },
  {
   "cell_type": "markdown",
   "id": "98b7fa0e",
   "metadata": {},
   "source": [
    "#### 15. Write a python program to print the frequency of each of the characters present in a given string"
   ]
  },
  {
   "cell_type": "code",
   "execution_count": 9,
   "id": "464d2940",
   "metadata": {},
   "outputs": [
    {
     "name": "stdout",
     "output_type": "stream",
     "text": [
      "Enter the string\n",
      "Data Science\n",
      "The frequency of each character in Data Science\n",
      " is {'D': 1, 'a': 2, 't': 1, ' ': 1, 'S': 1, 'c': 2, 'i': 1, 'e': 2, 'n': 1}\n"
     ]
    }
   ],
   "source": [
    "#get the string from user\n",
    "str1=str(input(\"Enter the string\\n\"))\n",
    "#initialise empty dictionary\n",
    "freq = {}\n",
    "#iterate over the string\n",
    "for i in str1:\n",
    "    if i in freq:\n",
    "        freq[i] +=1\n",
    "    else:\n",
    "        freq[i] = 1\n",
    "        \n",
    "#print the values\n",
    "print(\"The frequency of each character in %s\\n\"%str1,\"is\",str(freq))"
   ]
  },
  {
   "cell_type": "code",
   "execution_count": null,
   "id": "0e3c2b1f",
   "metadata": {},
   "outputs": [],
   "source": []
  },
  {
   "cell_type": "code",
   "execution_count": null,
   "id": "102d4e3d",
   "metadata": {},
   "outputs": [],
   "source": []
  }
 ],
 "metadata": {
  "kernelspec": {
   "display_name": "Python 3",
   "language": "python",
   "name": "python3"
  },
  "language_info": {
   "codemirror_mode": {
    "name": "ipython",
    "version": 3
   },
   "file_extension": ".py",
   "mimetype": "text/x-python",
   "name": "python",
   "nbconvert_exporter": "python",
   "pygments_lexer": "ipython3",
   "version": "3.8.8"
  }
 },
 "nbformat": 4,
 "nbformat_minor": 5
}
