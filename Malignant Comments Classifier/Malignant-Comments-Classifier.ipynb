{
 "cells": [
  {
   "cell_type": "markdown",
   "id": "a33cef00",
   "metadata": {},
   "source": [
    "## MALIGNANT COMMENTS CLASSIFICATION\n",
    "### Problem Statement\n",
    "The proliferation of social media enables people to express their opinions widely online. However, at the same time, this has resulted in the emergence of conflict and hate, making online environments uninviting for users. Although researchers have found that hate is a problem across multiple platforms, there is a lack of models for online hate detection.\n",
    "Online hate, described as abusive language, aggression, cyberbullying, hatefulness and many others has been identified as a major threat on online social media platforms. Social media platforms are the most prominent grounds for such toxic behaviour.   \n",
    "There has been a remarkable increase in the cases of cyberbullying and trolls on various social media platforms. Many celebrities and influences are facing backlashes from people and have to come across hateful and offensive comments. This can take a toll on anyone and affect them mentally leading to depression, mental illness, self-hatred and suicidal thoughts.    \n",
    "Internet comments are bastions of hatred and vitriol. While online anonymity has provided a new outlet for aggression and hate speech, machine learning can be used to fight it. The problem we sought to solve was the tagging of internet comments that are aggressive towards other users. This means that insults to third parties such as celebrities will be tagged as unoffensive, but “u are an idiot” is clearly offensive.\n",
    "Our goal is to build a prototype of online hate and abuse comment classifier which can used to classify hate and offensive comments so that it can be controlled and restricted from spreading hatred and cyberbullying. \n",
    "Data Set Description\n",
    "The data set contains the training set, which has approximately 1,59,000 samples and the test set which contains nearly 1,53,000 samples. All the data samples contain 8 fields which includes ‘Id’, ‘Comments’, ‘Malignant’, ‘Highly malignant’, ‘Rude’, ‘Threat’, ‘Abuse’ and ‘Loathe’. \n",
    "The label can be either 0 or 1, where 0 denotes a NO while 1 denotes a YES. There are various comments which have multiple labels. The first attribute is a unique ID associated with each comment.   \n",
    "### The data set includes:\n",
    "-\tMalignant: It is the Label column, which includes values 0 and 1, denoting if the comment is malignant or not. \n",
    "-\tHighly Malignant: It denotes comments that are highly malignant and hurtful. \n",
    "-\tRude: It denotes comments that are very rude and offensive.\n",
    "-\tThreat: It contains indication of the comments that are giving any threat to someone. \t\n",
    "-\tAbuse: It is for comments that are abusive in nature. \n",
    "-\tLoathe: It describes the comments which are hateful and loathing in nature.  \n",
    "-\tID: It includes unique Ids associated with each comment text given.   \n",
    "-\tComment text: This column contains the comments extracted from various social media platforms. \n",
    "\n",
    "\n",
    "### Let us import all necessary Libraries"
   ]
  },
  {
   "cell_type": "code",
   "execution_count": 1,
   "id": "b9bff305",
   "metadata": {},
   "outputs": [],
   "source": [
    "import math\n",
    "import numpy as np\n",
    "import pandas as pd\n",
    "import matplotlib.pyplot as plt\n",
    "import seaborn as sns\n",
    "\n",
    "import warnings\n",
    "warnings.filterwarnings('ignore')"
   ]
  },
  {
   "cell_type": "code",
   "execution_count": 43,
   "id": "047b8aab",
   "metadata": {},
   "outputs": [],
   "source": [
    "from sklearn.model_selection import train_test_split,GridSearchCV,cross_val_score\n",
    "from sklearn.metrics import accuracy_score,classification_report,confusion_matrix,roc_auc_score,roc_curve,plot_roc_curve\n",
    "\n",
    "from sklearn.linear_model import LogisticRegression\n",
    "from sklearn.neighbors import KNeighborsClassifier\n",
    "from sklearn.tree import DecisionTreeClassifier\n",
    "from sklearn.ensemble import RandomForestClassifier,AdaBoostClassifier,GradientBoostingClassifier\n",
    "from sklearn.naive_bayes import MultinomialNB\n",
    "from sklearn.svm import SVC"
   ]
  },
  {
   "cell_type": "markdown",
   "id": "431c3a08",
   "metadata": {},
   "source": [
    "## Importing train and test dataset"
   ]
  },
  {
   "cell_type": "code",
   "execution_count": 3,
   "id": "6df0d1da",
   "metadata": {},
   "outputs": [
    {
     "data": {
      "text/html": [
       "<div>\n",
       "<style scoped>\n",
       "    .dataframe tbody tr th:only-of-type {\n",
       "        vertical-align: middle;\n",
       "    }\n",
       "\n",
       "    .dataframe tbody tr th {\n",
       "        vertical-align: top;\n",
       "    }\n",
       "\n",
       "    .dataframe thead th {\n",
       "        text-align: right;\n",
       "    }\n",
       "</style>\n",
       "<table border=\"1\" class=\"dataframe\">\n",
       "  <thead>\n",
       "    <tr style=\"text-align: right;\">\n",
       "      <th></th>\n",
       "      <th>id</th>\n",
       "      <th>comment_text</th>\n",
       "      <th>malignant</th>\n",
       "      <th>highly_malignant</th>\n",
       "      <th>rude</th>\n",
       "      <th>threat</th>\n",
       "      <th>abuse</th>\n",
       "      <th>loathe</th>\n",
       "    </tr>\n",
       "  </thead>\n",
       "  <tbody>\n",
       "    <tr>\n",
       "      <th>0</th>\n",
       "      <td>0000997932d777bf</td>\n",
       "      <td>Explanation\\nWhy the edits made under my usern...</td>\n",
       "      <td>0</td>\n",
       "      <td>0</td>\n",
       "      <td>0</td>\n",
       "      <td>0</td>\n",
       "      <td>0</td>\n",
       "      <td>0</td>\n",
       "    </tr>\n",
       "    <tr>\n",
       "      <th>1</th>\n",
       "      <td>000103f0d9cfb60f</td>\n",
       "      <td>D'aww! He matches this background colour I'm s...</td>\n",
       "      <td>0</td>\n",
       "      <td>0</td>\n",
       "      <td>0</td>\n",
       "      <td>0</td>\n",
       "      <td>0</td>\n",
       "      <td>0</td>\n",
       "    </tr>\n",
       "    <tr>\n",
       "      <th>2</th>\n",
       "      <td>000113f07ec002fd</td>\n",
       "      <td>Hey man, I'm really not trying to edit war. It...</td>\n",
       "      <td>0</td>\n",
       "      <td>0</td>\n",
       "      <td>0</td>\n",
       "      <td>0</td>\n",
       "      <td>0</td>\n",
       "      <td>0</td>\n",
       "    </tr>\n",
       "    <tr>\n",
       "      <th>3</th>\n",
       "      <td>0001b41b1c6bb37e</td>\n",
       "      <td>\"\\nMore\\nI can't make any real suggestions on ...</td>\n",
       "      <td>0</td>\n",
       "      <td>0</td>\n",
       "      <td>0</td>\n",
       "      <td>0</td>\n",
       "      <td>0</td>\n",
       "      <td>0</td>\n",
       "    </tr>\n",
       "    <tr>\n",
       "      <th>4</th>\n",
       "      <td>0001d958c54c6e35</td>\n",
       "      <td>You, sir, are my hero. Any chance you remember...</td>\n",
       "      <td>0</td>\n",
       "      <td>0</td>\n",
       "      <td>0</td>\n",
       "      <td>0</td>\n",
       "      <td>0</td>\n",
       "      <td>0</td>\n",
       "    </tr>\n",
       "    <tr>\n",
       "      <th>...</th>\n",
       "      <td>...</td>\n",
       "      <td>...</td>\n",
       "      <td>...</td>\n",
       "      <td>...</td>\n",
       "      <td>...</td>\n",
       "      <td>...</td>\n",
       "      <td>...</td>\n",
       "      <td>...</td>\n",
       "    </tr>\n",
       "    <tr>\n",
       "      <th>159566</th>\n",
       "      <td>ffe987279560d7ff</td>\n",
       "      <td>\":::::And for the second time of asking, when ...</td>\n",
       "      <td>0</td>\n",
       "      <td>0</td>\n",
       "      <td>0</td>\n",
       "      <td>0</td>\n",
       "      <td>0</td>\n",
       "      <td>0</td>\n",
       "    </tr>\n",
       "    <tr>\n",
       "      <th>159567</th>\n",
       "      <td>ffea4adeee384e90</td>\n",
       "      <td>You should be ashamed of yourself \\n\\nThat is ...</td>\n",
       "      <td>0</td>\n",
       "      <td>0</td>\n",
       "      <td>0</td>\n",
       "      <td>0</td>\n",
       "      <td>0</td>\n",
       "      <td>0</td>\n",
       "    </tr>\n",
       "    <tr>\n",
       "      <th>159568</th>\n",
       "      <td>ffee36eab5c267c9</td>\n",
       "      <td>Spitzer \\n\\nUmm, theres no actual article for ...</td>\n",
       "      <td>0</td>\n",
       "      <td>0</td>\n",
       "      <td>0</td>\n",
       "      <td>0</td>\n",
       "      <td>0</td>\n",
       "      <td>0</td>\n",
       "    </tr>\n",
       "    <tr>\n",
       "      <th>159569</th>\n",
       "      <td>fff125370e4aaaf3</td>\n",
       "      <td>And it looks like it was actually you who put ...</td>\n",
       "      <td>0</td>\n",
       "      <td>0</td>\n",
       "      <td>0</td>\n",
       "      <td>0</td>\n",
       "      <td>0</td>\n",
       "      <td>0</td>\n",
       "    </tr>\n",
       "    <tr>\n",
       "      <th>159570</th>\n",
       "      <td>fff46fc426af1f9a</td>\n",
       "      <td>\"\\nAnd ... I really don't think you understand...</td>\n",
       "      <td>0</td>\n",
       "      <td>0</td>\n",
       "      <td>0</td>\n",
       "      <td>0</td>\n",
       "      <td>0</td>\n",
       "      <td>0</td>\n",
       "    </tr>\n",
       "  </tbody>\n",
       "</table>\n",
       "<p>159571 rows × 8 columns</p>\n",
       "</div>"
      ],
      "text/plain": [
       "                      id                                       comment_text  \\\n",
       "0       0000997932d777bf  Explanation\\nWhy the edits made under my usern...   \n",
       "1       000103f0d9cfb60f  D'aww! He matches this background colour I'm s...   \n",
       "2       000113f07ec002fd  Hey man, I'm really not trying to edit war. It...   \n",
       "3       0001b41b1c6bb37e  \"\\nMore\\nI can't make any real suggestions on ...   \n",
       "4       0001d958c54c6e35  You, sir, are my hero. Any chance you remember...   \n",
       "...                  ...                                                ...   \n",
       "159566  ffe987279560d7ff  \":::::And for the second time of asking, when ...   \n",
       "159567  ffea4adeee384e90  You should be ashamed of yourself \\n\\nThat is ...   \n",
       "159568  ffee36eab5c267c9  Spitzer \\n\\nUmm, theres no actual article for ...   \n",
       "159569  fff125370e4aaaf3  And it looks like it was actually you who put ...   \n",
       "159570  fff46fc426af1f9a  \"\\nAnd ... I really don't think you understand...   \n",
       "\n",
       "        malignant  highly_malignant  rude  threat  abuse  loathe  \n",
       "0               0                 0     0       0      0       0  \n",
       "1               0                 0     0       0      0       0  \n",
       "2               0                 0     0       0      0       0  \n",
       "3               0                 0     0       0      0       0  \n",
       "4               0                 0     0       0      0       0  \n",
       "...           ...               ...   ...     ...    ...     ...  \n",
       "159566          0                 0     0       0      0       0  \n",
       "159567          0                 0     0       0      0       0  \n",
       "159568          0                 0     0       0      0       0  \n",
       "159569          0                 0     0       0      0       0  \n",
       "159570          0                 0     0       0      0       0  \n",
       "\n",
       "[159571 rows x 8 columns]"
      ]
     },
     "execution_count": 3,
     "metadata": {},
     "output_type": "execute_result"
    }
   ],
   "source": [
    "train = pd.read_csv('train.csv')\n",
    "\n",
    "train"
   ]
  },
  {
   "cell_type": "code",
   "execution_count": 4,
   "id": "dacfa98d",
   "metadata": {
    "scrolled": true
   },
   "outputs": [
    {
     "data": {
      "text/html": [
       "<div>\n",
       "<style scoped>\n",
       "    .dataframe tbody tr th:only-of-type {\n",
       "        vertical-align: middle;\n",
       "    }\n",
       "\n",
       "    .dataframe tbody tr th {\n",
       "        vertical-align: top;\n",
       "    }\n",
       "\n",
       "    .dataframe thead th {\n",
       "        text-align: right;\n",
       "    }\n",
       "</style>\n",
       "<table border=\"1\" class=\"dataframe\">\n",
       "  <thead>\n",
       "    <tr style=\"text-align: right;\">\n",
       "      <th></th>\n",
       "      <th>id</th>\n",
       "      <th>comment_text</th>\n",
       "    </tr>\n",
       "  </thead>\n",
       "  <tbody>\n",
       "    <tr>\n",
       "      <th>0</th>\n",
       "      <td>00001cee341fdb12</td>\n",
       "      <td>Yo bitch Ja Rule is more succesful then you'll...</td>\n",
       "    </tr>\n",
       "    <tr>\n",
       "      <th>1</th>\n",
       "      <td>0000247867823ef7</td>\n",
       "      <td>== From RfC == \\n\\n The title is fine as it is...</td>\n",
       "    </tr>\n",
       "    <tr>\n",
       "      <th>2</th>\n",
       "      <td>00013b17ad220c46</td>\n",
       "      <td>\" \\n\\n == Sources == \\n\\n * Zawe Ashton on Lap...</td>\n",
       "    </tr>\n",
       "    <tr>\n",
       "      <th>3</th>\n",
       "      <td>00017563c3f7919a</td>\n",
       "      <td>:If you have a look back at the source, the in...</td>\n",
       "    </tr>\n",
       "    <tr>\n",
       "      <th>4</th>\n",
       "      <td>00017695ad8997eb</td>\n",
       "      <td>I don't anonymously edit articles at all.</td>\n",
       "    </tr>\n",
       "    <tr>\n",
       "      <th>...</th>\n",
       "      <td>...</td>\n",
       "      <td>...</td>\n",
       "    </tr>\n",
       "    <tr>\n",
       "      <th>153159</th>\n",
       "      <td>fffcd0960ee309b5</td>\n",
       "      <td>. \\n i totally agree, this stuff is nothing bu...</td>\n",
       "    </tr>\n",
       "    <tr>\n",
       "      <th>153160</th>\n",
       "      <td>fffd7a9a6eb32c16</td>\n",
       "      <td>== Throw from out field to home plate. == \\n\\n...</td>\n",
       "    </tr>\n",
       "    <tr>\n",
       "      <th>153161</th>\n",
       "      <td>fffda9e8d6fafa9e</td>\n",
       "      <td>\" \\n\\n == Okinotorishima categories == \\n\\n I ...</td>\n",
       "    </tr>\n",
       "    <tr>\n",
       "      <th>153162</th>\n",
       "      <td>fffe8f1340a79fc2</td>\n",
       "      <td>\" \\n\\n == \"\"One of the founding nations of the...</td>\n",
       "    </tr>\n",
       "    <tr>\n",
       "      <th>153163</th>\n",
       "      <td>ffffce3fb183ee80</td>\n",
       "      <td>\" \\n :::Stop already. Your bullshit is not wel...</td>\n",
       "    </tr>\n",
       "  </tbody>\n",
       "</table>\n",
       "<p>153164 rows × 2 columns</p>\n",
       "</div>"
      ],
      "text/plain": [
       "                      id                                       comment_text\n",
       "0       00001cee341fdb12  Yo bitch Ja Rule is more succesful then you'll...\n",
       "1       0000247867823ef7  == From RfC == \\n\\n The title is fine as it is...\n",
       "2       00013b17ad220c46  \" \\n\\n == Sources == \\n\\n * Zawe Ashton on Lap...\n",
       "3       00017563c3f7919a  :If you have a look back at the source, the in...\n",
       "4       00017695ad8997eb          I don't anonymously edit articles at all.\n",
       "...                  ...                                                ...\n",
       "153159  fffcd0960ee309b5  . \\n i totally agree, this stuff is nothing bu...\n",
       "153160  fffd7a9a6eb32c16  == Throw from out field to home plate. == \\n\\n...\n",
       "153161  fffda9e8d6fafa9e  \" \\n\\n == Okinotorishima categories == \\n\\n I ...\n",
       "153162  fffe8f1340a79fc2  \" \\n\\n == \"\"One of the founding nations of the...\n",
       "153163  ffffce3fb183ee80  \" \\n :::Stop already. Your bullshit is not wel...\n",
       "\n",
       "[153164 rows x 2 columns]"
      ]
     },
     "execution_count": 4,
     "metadata": {},
     "output_type": "execute_result"
    }
   ],
   "source": [
    "test = pd.read_csv('test.csv')\n",
    "\n",
    "test"
   ]
  },
  {
   "cell_type": "markdown",
   "id": "d8bb99ee",
   "metadata": {},
   "source": [
    "### There are 159571,153164 records in train and test dataset respectively.\n",
    "\n",
    "## EDA\n",
    "\n",
    "Let us have a brief outlook on the dataset using .info and descriptive statistics."
   ]
  },
  {
   "cell_type": "code",
   "execution_count": 5,
   "id": "5e943d34",
   "metadata": {},
   "outputs": [
    {
     "name": "stdout",
     "output_type": "stream",
     "text": [
      "<class 'pandas.core.frame.DataFrame'>\n",
      "RangeIndex: 159571 entries, 0 to 159570\n",
      "Data columns (total 8 columns):\n",
      " #   Column            Non-Null Count   Dtype \n",
      "---  ------            --------------   ----- \n",
      " 0   id                159571 non-null  object\n",
      " 1   comment_text      159571 non-null  object\n",
      " 2   malignant         159571 non-null  int64 \n",
      " 3   highly_malignant  159571 non-null  int64 \n",
      " 4   rude              159571 non-null  int64 \n",
      " 5   threat            159571 non-null  int64 \n",
      " 6   abuse             159571 non-null  int64 \n",
      " 7   loathe            159571 non-null  int64 \n",
      "dtypes: int64(6), object(2)\n",
      "memory usage: 9.7+ MB\n"
     ]
    }
   ],
   "source": [
    "train.info()"
   ]
  },
  {
   "cell_type": "code",
   "execution_count": 6,
   "id": "bc8c6e26",
   "metadata": {},
   "outputs": [
    {
     "name": "stdout",
     "output_type": "stream",
     "text": [
      "<class 'pandas.core.frame.DataFrame'>\n",
      "RangeIndex: 153164 entries, 0 to 153163\n",
      "Data columns (total 2 columns):\n",
      " #   Column        Non-Null Count   Dtype \n",
      "---  ------        --------------   ----- \n",
      " 0   id            153164 non-null  object\n",
      " 1   comment_text  153164 non-null  object\n",
      "dtypes: object(2)\n",
      "memory usage: 2.3+ MB\n"
     ]
    }
   ],
   "source": [
    "test.info()"
   ]
  },
  {
   "cell_type": "code",
   "execution_count": 7,
   "id": "5ebe59f5",
   "metadata": {},
   "outputs": [
    {
     "data": {
      "text/html": [
       "<div>\n",
       "<style scoped>\n",
       "    .dataframe tbody tr th:only-of-type {\n",
       "        vertical-align: middle;\n",
       "    }\n",
       "\n",
       "    .dataframe tbody tr th {\n",
       "        vertical-align: top;\n",
       "    }\n",
       "\n",
       "    .dataframe thead th {\n",
       "        text-align: right;\n",
       "    }\n",
       "</style>\n",
       "<table border=\"1\" class=\"dataframe\">\n",
       "  <thead>\n",
       "    <tr style=\"text-align: right;\">\n",
       "      <th></th>\n",
       "      <th>malignant</th>\n",
       "      <th>highly_malignant</th>\n",
       "      <th>rude</th>\n",
       "      <th>threat</th>\n",
       "      <th>abuse</th>\n",
       "      <th>loathe</th>\n",
       "    </tr>\n",
       "  </thead>\n",
       "  <tbody>\n",
       "    <tr>\n",
       "      <th>count</th>\n",
       "      <td>159571.000000</td>\n",
       "      <td>159571.000000</td>\n",
       "      <td>159571.000000</td>\n",
       "      <td>159571.000000</td>\n",
       "      <td>159571.000000</td>\n",
       "      <td>159571.000000</td>\n",
       "    </tr>\n",
       "    <tr>\n",
       "      <th>mean</th>\n",
       "      <td>0.095844</td>\n",
       "      <td>0.009996</td>\n",
       "      <td>0.052948</td>\n",
       "      <td>0.002996</td>\n",
       "      <td>0.049364</td>\n",
       "      <td>0.008805</td>\n",
       "    </tr>\n",
       "    <tr>\n",
       "      <th>std</th>\n",
       "      <td>0.294379</td>\n",
       "      <td>0.099477</td>\n",
       "      <td>0.223931</td>\n",
       "      <td>0.054650</td>\n",
       "      <td>0.216627</td>\n",
       "      <td>0.093420</td>\n",
       "    </tr>\n",
       "    <tr>\n",
       "      <th>min</th>\n",
       "      <td>0.000000</td>\n",
       "      <td>0.000000</td>\n",
       "      <td>0.000000</td>\n",
       "      <td>0.000000</td>\n",
       "      <td>0.000000</td>\n",
       "      <td>0.000000</td>\n",
       "    </tr>\n",
       "    <tr>\n",
       "      <th>25%</th>\n",
       "      <td>0.000000</td>\n",
       "      <td>0.000000</td>\n",
       "      <td>0.000000</td>\n",
       "      <td>0.000000</td>\n",
       "      <td>0.000000</td>\n",
       "      <td>0.000000</td>\n",
       "    </tr>\n",
       "    <tr>\n",
       "      <th>50%</th>\n",
       "      <td>0.000000</td>\n",
       "      <td>0.000000</td>\n",
       "      <td>0.000000</td>\n",
       "      <td>0.000000</td>\n",
       "      <td>0.000000</td>\n",
       "      <td>0.000000</td>\n",
       "    </tr>\n",
       "    <tr>\n",
       "      <th>75%</th>\n",
       "      <td>0.000000</td>\n",
       "      <td>0.000000</td>\n",
       "      <td>0.000000</td>\n",
       "      <td>0.000000</td>\n",
       "      <td>0.000000</td>\n",
       "      <td>0.000000</td>\n",
       "    </tr>\n",
       "    <tr>\n",
       "      <th>max</th>\n",
       "      <td>1.000000</td>\n",
       "      <td>1.000000</td>\n",
       "      <td>1.000000</td>\n",
       "      <td>1.000000</td>\n",
       "      <td>1.000000</td>\n",
       "      <td>1.000000</td>\n",
       "    </tr>\n",
       "  </tbody>\n",
       "</table>\n",
       "</div>"
      ],
      "text/plain": [
       "           malignant  highly_malignant           rude         threat  \\\n",
       "count  159571.000000     159571.000000  159571.000000  159571.000000   \n",
       "mean        0.095844          0.009996       0.052948       0.002996   \n",
       "std         0.294379          0.099477       0.223931       0.054650   \n",
       "min         0.000000          0.000000       0.000000       0.000000   \n",
       "25%         0.000000          0.000000       0.000000       0.000000   \n",
       "50%         0.000000          0.000000       0.000000       0.000000   \n",
       "75%         0.000000          0.000000       0.000000       0.000000   \n",
       "max         1.000000          1.000000       1.000000       1.000000   \n",
       "\n",
       "               abuse         loathe  \n",
       "count  159571.000000  159571.000000  \n",
       "mean        0.049364       0.008805  \n",
       "std         0.216627       0.093420  \n",
       "min         0.000000       0.000000  \n",
       "25%         0.000000       0.000000  \n",
       "50%         0.000000       0.000000  \n",
       "75%         0.000000       0.000000  \n",
       "max         1.000000       1.000000  "
      ]
     },
     "execution_count": 7,
     "metadata": {},
     "output_type": "execute_result"
    }
   ],
   "source": [
    "#Descrptive statistics\n",
    "train.describe()"
   ]
  },
  {
   "cell_type": "code",
   "execution_count": 8,
   "id": "3fb621fb",
   "metadata": {},
   "outputs": [
    {
     "data": {
      "text/html": [
       "<div>\n",
       "<style scoped>\n",
       "    .dataframe tbody tr th:only-of-type {\n",
       "        vertical-align: middle;\n",
       "    }\n",
       "\n",
       "    .dataframe tbody tr th {\n",
       "        vertical-align: top;\n",
       "    }\n",
       "\n",
       "    .dataframe thead th {\n",
       "        text-align: right;\n",
       "    }\n",
       "</style>\n",
       "<table border=\"1\" class=\"dataframe\">\n",
       "  <thead>\n",
       "    <tr style=\"text-align: right;\">\n",
       "      <th></th>\n",
       "      <th>id</th>\n",
       "      <th>comment_text</th>\n",
       "    </tr>\n",
       "  </thead>\n",
       "  <tbody>\n",
       "    <tr>\n",
       "      <th>count</th>\n",
       "      <td>153164</td>\n",
       "      <td>153164</td>\n",
       "    </tr>\n",
       "    <tr>\n",
       "      <th>unique</th>\n",
       "      <td>153164</td>\n",
       "      <td>153164</td>\n",
       "    </tr>\n",
       "    <tr>\n",
       "      <th>top</th>\n",
       "      <td>fcb2e6f7b8852a51</td>\n",
       "      <td>== Works of fiction are not reference sources ...</td>\n",
       "    </tr>\n",
       "    <tr>\n",
       "      <th>freq</th>\n",
       "      <td>1</td>\n",
       "      <td>1</td>\n",
       "    </tr>\n",
       "  </tbody>\n",
       "</table>\n",
       "</div>"
      ],
      "text/plain": [
       "                      id                                       comment_text\n",
       "count             153164                                             153164\n",
       "unique            153164                                             153164\n",
       "top     fcb2e6f7b8852a51  == Works of fiction are not reference sources ...\n",
       "freq                   1                                                  1"
      ]
     },
     "execution_count": 8,
     "metadata": {},
     "output_type": "execute_result"
    }
   ],
   "source": [
    "test.describe()"
   ]
  },
  {
   "cell_type": "markdown",
   "id": "6faa5b7f",
   "metadata": {},
   "source": [
    "## Checking for null values"
   ]
  },
  {
   "cell_type": "code",
   "execution_count": 9,
   "id": "30633aeb",
   "metadata": {},
   "outputs": [
    {
     "name": "stdout",
     "output_type": "stream",
     "text": [
      "id                  0\n",
      "comment_text        0\n",
      "malignant           0\n",
      "highly_malignant    0\n",
      "rude                0\n",
      "threat              0\n",
      "abuse               0\n",
      "loathe              0\n",
      "dtype: int64\n"
     ]
    },
    {
     "data": {
      "image/png": "[encoded data removed]",
      "text/plain": [
       "<Figure size 720x576 with 2 Axes>"
      ]
     },
     "metadata": {},
     "output_type": "display_data"
    }
   ],
   "source": [
    "print(train.isnull().sum())\n",
    "\n",
    "plt.figure(figsize=(10,8),facecolor='white')\n",
    "sns.heatmap(train.isnull(),yticklabels=False)\n",
    "plt.title('Heat map showing if any null values in the train')\n",
    "plt.show()"
   ]
  },
  {
   "cell_type": "code",
   "execution_count": 10,
   "id": "ac10db74",
   "metadata": {},
   "outputs": [
    {
     "data": {
      "text/plain": [
       "id              0\n",
       "comment_text    0\n",
       "dtype: int64"
      ]
     },
     "execution_count": 10,
     "metadata": {},
     "output_type": "execute_result"
    }
   ],
   "source": [
    "test.isnull().sum()"
   ]
  },
  {
   "cell_type": "markdown",
   "id": "e31f321f",
   "metadata": {},
   "source": [
    "There are no null values in the dataset.\n",
    "\n",
    "### Let us visualise the attributes and understand how the data is spread."
   ]
  },
  {
   "cell_type": "code",
   "execution_count": 11,
   "id": "59c661f9",
   "metadata": {
    "scrolled": true
   },
   "outputs": [
    {
     "name": "stdout",
     "output_type": "stream",
     "text": [
      "id :\n",
      " 63b7622f0331bd0f    1\n",
      "ab35a0431952f36b    1\n",
      "f097f3a741c1c0af    1\n",
      "61b201164d6295e2    1\n",
      "f9962dcf9bdbbe51    1\n",
      "                   ..\n",
      "9fc6dee8524fbfc7    1\n",
      "9c84d7ad02f7f8c9    1\n",
      "ad6f992f2c167c04    1\n",
      "2540a83a1a56ab37    1\n",
      "4ce356e099f2da3a    1\n",
      "Name: id, Length: 159571, dtype: int64\n",
      "*****************************************\n",
      "comment_text :\n",
      " Yes. However, there aren't many (any?) academic articles about the history of polo. I got Laffaye's books through McFarland & Co., thanks to Wikipedia. Gillian is quite a prominent player (though I've never seen her play) and I saw her name again in Polo Times online today, so I thought I would finally create her page. I'd found more about her father and brother, when I created their pages. Her paternal grandfather deserves a page as well not for polo, but for the history of Coca-Cola/Southern reconstruction. Laffaye tells us she is a third-generation polo player, so her paternal grandfather must have played polo, but I'm not sure if there is much out there in terms of references. (That's for the Johnstons; then there is Tommy Biddle, a member of the Biddle family...)    1\n",
      "149 is abit bloggy and only supports that two foot bollard comments to show dave was a little bit silly to do that. I would take it out. (  )                                                                                                                                                                                                                                                                                                                                                                                                                                                                                                                                                                                                                                                                 1\n",
      "You have a very good point.  Sadly I have been banned forever from Wikipedia for arguing just this kind of thing.  Perhaps you could try to continue the good work?  This is important stuff, you will just have to deal with a lot of POV warriors.  Good luck.                                                                                                                                                                                                                                                                                                                                                                                                                                                                                                                                              1\n",
      "\"== Removed uncited statement about discovering \"\"many\"\" writers ==\\n\\nI removed an uncited sentence about the newspaper discovering \"\"many\"\" writers.  Instead, please replace it with some specific, verifiable names of writers that the newspaper has discovered. (Just saying \"\"many\"\" without an example or reference is an example of a weasel word.)  \"                                                                                                                                                                                                                                                                                                                                                                                                                                               1\n",
      "Apankrat is a cruel person, that's all I have to say                                                                                                                                                                                                                                                                                                                                                                                                                                                                                                                                                                                                                                                                                                                                                          1\n",
      "                                                                                                                                                                                                                                                                                                                                                                                                                                                                                                                                                                                                                                                                                                                                                                                                             ..\n",
      "WHY DON'T YOU JUST BLOW IT OUT OF YOU ASS, YOU DIRTBALL?  #### OFF, ASSWIPE.                                                                                                                                                                                                                                                                                                                                                                                                                                                                                                                                                                                                                                                                                                                                  1\n",
      "\"\\n\\n Guilty All the Same edits \\n\\nThanks for trying to help me out, and I really appreciate it. RazorEye is wrong for a few things he had put on the Guilty All the Same page.  The BMI stuff is useless, and it doesn't work that way for a user like RazorEye. I'd really prefer the songwriting credit going to \"\"Linkin Park\"\" and Rakim (\"\"William Griffin\"\") cause they all wrote it out, just like it's described in the Behind the Scenes clip for the song itself. That user just don't get it, I know.  1:28, 12 April 2014\"                                                                                                                                                                                                                                                                      1\n",
      "and is registred to an ISP                                                                                                                                                                                                                                                                                                                                                                                                                                                                                                                                                                                                                                                                                                                                                                                    1\n",
      "Avoiding edit warring \\n\\nSonicyouth86, we apparently have very divergent views on several topics.  However, repeatedly reverting my edits back to yours on several articles without discussion / compromise on the Talk pages amounts to edit warring.  Let's try to work cooperatively to the extent that is possible.                                                                                                                                                                                                                                                                                                                                                                                                                                                                                      1\n",
      "I want to apologize to all of the morons, imbeciles, and microcephalics on Wikipedia that I've insulted.  I know there's a lot of you out there and I can't possibly remember all of your names, but let me just say this: I love you and I accept you for who you are.                                                                                                                                                                                                                                                                                                                                                                                                                                                                                                                                       1\n",
      "Name: comment_text, Length: 159571, dtype: int64\n",
      "*****************************************\n",
      "malignant :\n",
      " 0    144277\n",
      "1     15294\n",
      "Name: malignant, dtype: int64\n",
      "*****************************************\n",
      "highly_malignant :\n",
      " 0    157976\n",
      "1      1595\n",
      "Name: highly_malignant, dtype: int64\n",
      "*****************************************\n",
      "rude :\n",
      " 0    151122\n",
      "1      8449\n",
      "Name: rude, dtype: int64\n",
      "*****************************************\n",
      "threat :\n",
      " 0    159093\n",
      "1       478\n",
      "Name: threat, dtype: int64\n",
      "*****************************************\n",
      "abuse :\n",
      " 0    151694\n",
      "1      7877\n",
      "Name: abuse, dtype: int64\n",
      "*****************************************\n",
      "loathe :\n",
      " 0    158166\n",
      "1      1405\n",
      "Name: loathe, dtype: int64\n",
      "*****************************************\n"
     ]
    }
   ],
   "source": [
    "#getting the unique values for all features, and getting the unique values of categorical variables\n",
    "for col in train:\n",
    "    print(col,':\\n',train[col].value_counts())\n",
    "    print('*****************************************')"
   ]
  },
  {
   "cell_type": "code",
   "execution_count": 12,
   "id": "f7c2e546",
   "metadata": {
    "scrolled": false
   },
   "outputs": [
    {
     "data": {
      "image/png": "[encoded data removed]",
      "text/plain": [
       "<Figure size 576x648 with 1 Axes>"
      ]
     },
     "metadata": {
      "needs_background": "light"
     },
     "output_type": "display_data"
    },
    {
     "data": {
      "image/png": "[encoded data removed]",
      "text/plain": [
       "<Figure size 576x648 with 1 Axes>"
      ]
     },
     "metadata": {
      "needs_background": "light"
     },
     "output_type": "display_data"
    },
    {
     "data": {
      "image/png": "[encoded data removed]",
      "text/plain": [
       "<Figure size 576x648 with 1 Axes>"
      ]
     },
     "metadata": {
      "needs_background": "light"
     },
     "output_type": "display_data"
    },
    {
     "data": {
      "image/png": "[encoded data removed]",
      "text/plain": [
       "<Figure size 576x648 with 1 Axes>"
      ]
     },
     "metadata": {
      "needs_background": "light"
     },
     "output_type": "display_data"
    },
    {
     "data": {
      "image/png": "[encoded data removed]",
      "text/plain": [
       "<Figure size 576x648 with 1 Axes>"
      ]
     },
     "metadata": {
      "needs_background": "light"
     },
     "output_type": "display_data"
    },
    {
     "data": {
      "image/png": "[encoded data removed]",
      "text/plain": [
       "<Figure size 576x648 with 1 Axes>"
      ]
     },
     "metadata": {
      "needs_background": "light"
     },
     "output_type": "display_data"
    }
   ],
   "source": [
    "col = ['id', 'comment_text', 'malignant', 'highly_malignant', 'rude', 'threat','abuse', 'loathe']\n",
    "\n",
    "for i in col:\n",
    "    if train[i].dtype != 'object':\n",
    "        plt.figure(figsize=(8,9))\n",
    "        sns.countplot(train[i],palette='YlOrRd')\n",
    "        plt.title('Graph showing distribution of {} attribute'.format(i))\n",
    "        plt.show()\n",
    "    "
   ]
  },
  {
   "cell_type": "markdown",
   "id": "eec6c0b7",
   "metadata": {},
   "source": [
    "### Around 80% of the comments are having normal texts where as 15-20% have toxic comments\n",
    "\n",
    "## Feature Engineering:\n",
    "### Let us add another columns which indicates normal text and drop the unwanted column."
   ]
  },
  {
   "cell_type": "code",
   "execution_count": 13,
   "id": "fc69b9f5",
   "metadata": {},
   "outputs": [],
   "source": [
    "#creating a column called 'normal_comment'\n",
    "col = ['malignant', 'highly_malignant', 'rude', 'threat', 'abuse', 'loathe']\n",
    "\n",
    "train['normal_comment'] = 1- train[col].max(axis=1)"
   ]
  },
  {
   "cell_type": "code",
   "execution_count": 14,
   "id": "97b6d6ab",
   "metadata": {},
   "outputs": [],
   "source": [
    "train.drop(columns=['id'],inplace=True,axis=1) \n",
    "\n",
    "train['Row Length']=train['comment_text'].str.len()"
   ]
  },
  {
   "cell_type": "code",
   "execution_count": 15,
   "id": "3dc53361",
   "metadata": {},
   "outputs": [
    {
     "name": "stdout",
     "output_type": "stream",
     "text": [
      "1    143346\n",
      "0     16225\n",
      "Name: normal_comment, dtype: int64\n"
     ]
    },
    {
     "data": {
      "image/png": "[encoded data removed]",
      "text/plain": [
       "<Figure size 576x576 with 1 Axes>"
      ]
     },
     "metadata": {},
     "output_type": "display_data"
    }
   ],
   "source": [
    "print(train['normal_comment'].value_counts())\n",
    "\n",
    "plt.figure(figsize=(8,8),facecolor='white')\n",
    "plt.pie(train['normal_comment'].value_counts(),labels=[1,0]) \n",
    "plt.title('Graph showing normal comments vs malignant')\n",
    "plt.legend(['Normal Comments','Malignant Comments'])\n",
    "plt.show()"
   ]
  },
  {
   "cell_type": "code",
   "execution_count": 16,
   "id": "7246bfbc",
   "metadata": {},
   "outputs": [
    {
     "name": "stdout",
     "output_type": "stream",
     "text": [
      "malignant           15294\n",
      "highly_malignant     1595\n",
      "rude                 8449\n",
      "threat                478\n",
      "abuse                7877\n",
      "loathe               1405\n",
      "dtype: int64\n"
     ]
    },
    {
     "data": {
      "image/png": "[encoded data removed]",
      "text/plain": [
       "<Figure size 720x720 with 1 Axes>"
      ]
     },
     "metadata": {},
     "output_type": "display_data"
    }
   ],
   "source": [
    "print(train[col].sum())\n",
    "plt.figure(figsize=(10,10),facecolor='white')\n",
    "sns.set_context('talk',font_scale=0.7)\n",
    "plt.pie(train[col].sum(),labels=col,autopct='%2.0f%%',)\n",
    "plt.legend(col)\n",
    "plt.show()"
   ]
  },
  {
   "cell_type": "markdown",
   "id": "96b019b9",
   "metadata": {},
   "source": [
    "## There are 50% of rude and abuse comments.\n",
    "\n",
    "## Let us check correlation between the attributes"
   ]
  },
  {
   "cell_type": "code",
   "execution_count": 17,
   "id": "3f335a20",
   "metadata": {},
   "outputs": [
    {
     "data": {
      "image/png": "[encoded data removed]",
      "text/plain": [
       "<Figure size 720x720 with 2 Axes>"
      ]
     },
     "metadata": {},
     "output_type": "display_data"
    }
   ],
   "source": [
    "plt.figure(figsize=(10,10),facecolor='white')\n",
    "sns.heatmap(train.corr(),annot=True)\n",
    "\n",
    "plt.show()"
   ]
  },
  {
   "cell_type": "markdown",
   "id": "349f8360",
   "metadata": {},
   "source": [
    "## We can see that normal and malignant comments are negatively correlated\n",
    "## Rude and abuse comments have nearly similarities hence more correlated"
   ]
  },
  {
   "cell_type": "code",
   "execution_count": 18,
   "id": "1bb1cc9f",
   "metadata": {},
   "outputs": [
    {
     "data": {
      "text/plain": [
       "malignant            2.745854\n",
       "highly_malignant     9.851722\n",
       "rude                 3.992817\n",
       "threat              18.189001\n",
       "abuse                4.160540\n",
       "loathe              10.515923\n",
       "normal_comment      -2.635944\n",
       "Row Length           4.121676\n",
       "dtype: float64"
      ]
     },
     "execution_count": 18,
     "metadata": {},
     "output_type": "execute_result"
    }
   ],
   "source": [
    "# checking the skewness for the features:\n",
    "train.skew()"
   ]
  },
  {
   "cell_type": "markdown",
   "id": "a975ebe9",
   "metadata": {},
   "source": [
    "### Let us check for stop words in the dataset and try to remove these words from the comment_text so that we can focus on exact words which are responsible for classifying the comment as malignant."
   ]
  },
  {
   "cell_type": "code",
   "execution_count": 19,
   "id": "c7abbd17",
   "metadata": {},
   "outputs": [],
   "source": [
    "import nltk\n",
    "from nltk.corpus import  stopwords\n",
    "import string"
   ]
  },
  {
   "cell_type": "code",
   "execution_count": 20,
   "id": "e350d142",
   "metadata": {},
   "outputs": [],
   "source": [
    "# Convert all messages to lower case\n",
    "train['comment_text'] = train['comment_text'].str.lower()\n",
    "\n",
    "# Replace email addresses with 'email'\n",
    "train['comment_text'] = train['comment_text'].str.replace(r'^.+@[^\\.].*\\.[a-z]{2,}$',\n",
    "                                 'emailaddress')\n",
    "\n",
    "# Replace URLs with 'webaddress'\n",
    "train['comment_text'] = train['comment_text'].str.replace(r'^http\\://[a-zA-Z0-9\\-\\.]+\\.[a-zA-Z]{2,3}(/\\S*)?$',\n",
    "                                  'webaddress')\n",
    "\n",
    "# Replace money symbols with 'moneysymb' (£ can by typed with ALT key + 156)\n",
    "train['comment_text'] = train['comment_text'].str.replace(r'£|\\$', 'dollers')\n",
    "    \n",
    "# Replace 10 digit phone numbers (formats include paranthesis, spaces, no spaces, dashes) with 'phonenumber'\n",
    "train['comment_text'] = train['comment_text'].str.replace(r'^\\(?[\\d]{3}\\)?[\\s-]?[\\d]{3}[\\s-]?[\\d]{4}$',\n",
    "                                  'phonenumber')\n",
    "\n",
    "    \n",
    "# Replace numbers with 'numbr'\n",
    "train['comment_text'] = train['comment_text'].str.replace(r'\\d+(\\.\\d+)?', 'numbr')\n",
    "\n",
    "\n",
    "train['comment_text'] = train['comment_text'].apply(lambda x: ' '.join(\n",
    "    term for term in x.split() if term not in string.punctuation))\n",
    "\n",
    "stop_words = set(stopwords.words('english') + ['u', 'ü', 'ur', '4', '2', 'im', 'dont', 'doin', 'ure'])\n",
    "train['comment_text'] = train['comment_text'].apply(lambda x: ' '.join(\n",
    "    term for term in x.split() if term not in stop_words))\n"
   ]
  },
  {
   "cell_type": "markdown",
   "id": "84471bee",
   "metadata": {},
   "source": [
    "## Let us check the length of comments after cleaning the stop words"
   ]
  },
  {
   "cell_type": "code",
   "execution_count": 21,
   "id": "4a133295",
   "metadata": {},
   "outputs": [
    {
     "data": {
      "text/html": [
       "<div>\n",
       "<style scoped>\n",
       "    .dataframe tbody tr th:only-of-type {\n",
       "        vertical-align: middle;\n",
       "    }\n",
       "\n",
       "    .dataframe tbody tr th {\n",
       "        vertical-align: top;\n",
       "    }\n",
       "\n",
       "    .dataframe thead th {\n",
       "        text-align: right;\n",
       "    }\n",
       "</style>\n",
       "<table border=\"1\" class=\"dataframe\">\n",
       "  <thead>\n",
       "    <tr style=\"text-align: right;\">\n",
       "      <th></th>\n",
       "      <th>comment_text</th>\n",
       "      <th>malignant</th>\n",
       "      <th>highly_malignant</th>\n",
       "      <th>rude</th>\n",
       "      <th>threat</th>\n",
       "      <th>abuse</th>\n",
       "      <th>loathe</th>\n",
       "      <th>normal_comment</th>\n",
       "      <th>Row Length</th>\n",
       "      <th>clean_length</th>\n",
       "    </tr>\n",
       "  </thead>\n",
       "  <tbody>\n",
       "    <tr>\n",
       "      <th>0</th>\n",
       "      <td>explanation edits made username hardcore metal...</td>\n",
       "      <td>0</td>\n",
       "      <td>0</td>\n",
       "      <td>0</td>\n",
       "      <td>0</td>\n",
       "      <td>0</td>\n",
       "      <td>0</td>\n",
       "      <td>1</td>\n",
       "      <td>264</td>\n",
       "      <td>181</td>\n",
       "    </tr>\n",
       "    <tr>\n",
       "      <th>1</th>\n",
       "      <td>d'aww! matches background colour i'm seemingly...</td>\n",
       "      <td>0</td>\n",
       "      <td>0</td>\n",
       "      <td>0</td>\n",
       "      <td>0</td>\n",
       "      <td>0</td>\n",
       "      <td>0</td>\n",
       "      <td>1</td>\n",
       "      <td>112</td>\n",
       "      <td>113</td>\n",
       "    </tr>\n",
       "    <tr>\n",
       "      <th>2</th>\n",
       "      <td>hey man, i'm really trying edit war. guy const...</td>\n",
       "      <td>0</td>\n",
       "      <td>0</td>\n",
       "      <td>0</td>\n",
       "      <td>0</td>\n",
       "      <td>0</td>\n",
       "      <td>0</td>\n",
       "      <td>1</td>\n",
       "      <td>233</td>\n",
       "      <td>149</td>\n",
       "    </tr>\n",
       "    <tr>\n",
       "      <th>3</th>\n",
       "      <td>can't make real suggestions improvement wonder...</td>\n",
       "      <td>0</td>\n",
       "      <td>0</td>\n",
       "      <td>0</td>\n",
       "      <td>0</td>\n",
       "      <td>0</td>\n",
       "      <td>0</td>\n",
       "      <td>1</td>\n",
       "      <td>622</td>\n",
       "      <td>404</td>\n",
       "    </tr>\n",
       "    <tr>\n",
       "      <th>4</th>\n",
       "      <td>you, sir, hero. chance remember page that's on?</td>\n",
       "      <td>0</td>\n",
       "      <td>0</td>\n",
       "      <td>0</td>\n",
       "      <td>0</td>\n",
       "      <td>0</td>\n",
       "      <td>0</td>\n",
       "      <td>1</td>\n",
       "      <td>67</td>\n",
       "      <td>47</td>\n",
       "    </tr>\n",
       "  </tbody>\n",
       "</table>\n",
       "</div>"
      ],
      "text/plain": [
       "                                        comment_text  malignant  \\\n",
       "0  explanation edits made username hardcore metal...          0   \n",
       "1  d'aww! matches background colour i'm seemingly...          0   \n",
       "2  hey man, i'm really trying edit war. guy const...          0   \n",
       "3  can't make real suggestions improvement wonder...          0   \n",
       "4    you, sir, hero. chance remember page that's on?          0   \n",
       "\n",
       "   highly_malignant  rude  threat  abuse  loathe  normal_comment  Row Length  \\\n",
       "0                 0     0       0      0       0               1         264   \n",
       "1                 0     0       0      0       0               1         112   \n",
       "2                 0     0       0      0       0               1         233   \n",
       "3                 0     0       0      0       0               1         622   \n",
       "4                 0     0       0      0       0               1          67   \n",
       "\n",
       "   clean_length  \n",
       "0           181  \n",
       "1           113  \n",
       "2           149  \n",
       "3           404  \n",
       "4            47  "
      ]
     },
     "execution_count": 21,
     "metadata": {},
     "output_type": "execute_result"
    }
   ],
   "source": [
    "train['clean_length'] = train.comment_text.str.len()\n",
    "train.head()"
   ]
  },
  {
   "cell_type": "code",
   "execution_count": 22,
   "id": "c9388d64",
   "metadata": {
    "scrolled": true
   },
   "outputs": [
    {
     "name": "stdout",
     "output_type": "stream",
     "text": [
      "Original Length 62893130\n",
      "Clean Length 43973223\n"
     ]
    }
   ],
   "source": [
    "# Total length removal\n",
    "print ('Original Length', train['Row Length'].sum())\n",
    "print ('Clean Length', train.clean_length.sum())"
   ]
  },
  {
   "cell_type": "code",
   "execution_count": 24,
   "id": "7e2fb474",
   "metadata": {},
   "outputs": [
    {
     "data": {
      "text/plain": [
       "(159571, 10)"
      ]
     },
     "execution_count": 24,
     "metadata": {},
     "output_type": "execute_result"
    }
   ],
   "source": [
    "train.shape"
   ]
  },
  {
   "cell_type": "code",
   "execution_count": 25,
   "id": "e39337e5",
   "metadata": {},
   "outputs": [
    {
     "data": {
      "text/plain": [
       "(153164, 1)"
      ]
     },
     "execution_count": 25,
     "metadata": {},
     "output_type": "execute_result"
    }
   ],
   "source": [
    "test.shape"
   ]
  },
  {
   "cell_type": "code",
   "execution_count": 26,
   "id": "a58fb2e3",
   "metadata": {},
   "outputs": [
    {
     "name": "stdout",
     "output_type": "stream",
     "text": [
      "0    143346\n",
      "1      6360\n",
      "3      4209\n",
      "2      3480\n",
      "4      1760\n",
      "5       385\n",
      "6        31\n",
      "Name: bad, dtype: int64\n",
      "0    143346\n",
      "1     16225\n",
      "Name: bad, dtype: int64\n"
     ]
    }
   ],
   "source": [
    "#Let us convert the numerical columns into categorical column\n",
    "\n",
    "col = ['malignant','highly_malignant','rude','threat','abuse','loathe']\n",
    "target_data = train[col]\n",
    "\n",
    "train['bad'] =train[col].sum(axis =1)\n",
    "print(train['bad'].value_counts())\n",
    "train['bad'] = train['bad'] > 0 \n",
    "train['bad'] = train['bad'].astype(int)\n",
    "print(train['bad'].value_counts())"
   ]
  },
  {
   "cell_type": "code",
   "execution_count": 27,
   "id": "81a05bc6",
   "metadata": {},
   "outputs": [
    {
     "data": {
      "image/png": "[encoded data removed]",
      "text/plain": [
       "<Figure size 432x288 with 1 Axes>"
      ]
     },
     "metadata": {},
     "output_type": "display_data"
    }
   ],
   "source": [
    "sns.set()\n",
    "sns.countplot(x=\"bad\" , data = train)\n",
    "plt.show()"
   ]
  },
  {
   "cell_type": "markdown",
   "id": "d1128530",
   "metadata": {},
   "source": [
    "## Model Building\n",
    "\n",
    "### Let us split the independent and target variables"
   ]
  },
  {
   "cell_type": "code",
   "execution_count": 28,
   "id": "a2db2e5e",
   "metadata": {},
   "outputs": [],
   "source": [
    "#  Convert text into vectors using TF-IDF\n",
    "from sklearn.feature_extraction.text import TfidfVectorizer\n",
    "tf_vec = TfidfVectorizer(max_features = 10000, stop_words='english')\n",
    "features = tf_vec.fit_transform(train['comment_text'])\n",
    "x = features"
   ]
  },
  {
   "cell_type": "code",
   "execution_count": 31,
   "id": "251d6649",
   "metadata": {},
   "outputs": [
    {
     "data": {
      "text/plain": [
       "<153164x10000 sparse matrix of type '<class 'numpy.float64'>'\n",
       "\twith 2940344 stored elements in Compressed Sparse Row format>"
      ]
     },
     "execution_count": 31,
     "metadata": {},
     "output_type": "execute_result"
    }
   ],
   "source": [
    "#dropping the id column from test dataset and converting the text into vectors\n",
    "\n",
    "test.drop('id',axis=1,inplace=True)\n",
    "\n",
    "test_data =tf_vec.fit_transform(test['comment_text'])\n",
    "test_data\n"
   ]
  },
  {
   "cell_type": "code",
   "execution_count": 32,
   "id": "43b8b1f4",
   "metadata": {},
   "outputs": [],
   "source": [
    "y=train['bad']\n",
    "X_train,X_test,y_train,y_test=train_test_split(x,y,random_state=56,test_size=.30)"
   ]
  },
  {
   "cell_type": "markdown",
   "id": "ecc4c367",
   "metadata": {},
   "source": [
    "## Logistic Regression"
   ]
  },
  {
   "cell_type": "code",
   "execution_count": 33,
   "id": "1497cad1",
   "metadata": {},
   "outputs": [
    {
     "name": "stdout",
     "output_type": "stream",
     "text": [
      "******************RESULTS******************\n",
      "\n",
      " The accuracy score of Model : 0.955276570855615\n",
      "\n",
      " The ROC AUC score of Model : 0.802294632116666\n",
      "\n",
      " The CV score of Model : 0.9541804391779747\n",
      "\n",
      " The confusion Matrix :\n",
      "  [[42730   220]\n",
      " [ 1921  3001]]\n",
      "\n",
      " The classification report:\n",
      "                precision    recall  f1-score   support\n",
      "\n",
      "           0       0.96      0.99      0.98     42950\n",
      "           1       0.93      0.61      0.74      4922\n",
      "\n",
      "    accuracy                           0.96     47872\n",
      "   macro avg       0.94      0.80      0.86     47872\n",
      "weighted avg       0.95      0.96      0.95     47872\n",
      "\n",
      "*******************************************\n"
     ]
    }
   ],
   "source": [
    "Log_reg = LogisticRegression()\n",
    "Log_reg.fit(X_train, y_train)\n",
    "y_pred = Log_reg.predict(X_test)\n",
    "\n",
    "print(\"******************RESULTS******************\")\n",
    "print(\"\\n The accuracy score of Model :\", accuracy_score(y_test,y_pred))\n",
    "print(\"\\n The ROC AUC score of Model :\", roc_auc_score(y_test,y_pred))\n",
    "\n",
    "\n",
    "CV=cross_val_score(Log_reg,X_train, y_train,cv=5)\n",
    "print(\"\\n The CV score of Model :\", CV.mean())\n",
    "\n",
    "print(\"\\n The confusion Matrix :\\n \", confusion_matrix(y_test, y_pred))\n",
    "print(\"\\n The classification report:\\n \",classification_report(y_test, y_pred))\n",
    "\n",
    "      \n",
    "print(\"*******************************************\")"
   ]
  },
  {
   "cell_type": "markdown",
   "id": "60e8d18d",
   "metadata": {},
   "source": [
    "## Random Forest"
   ]
  },
  {
   "cell_type": "code",
   "execution_count": 34,
   "id": "fad51f37",
   "metadata": {},
   "outputs": [
    {
     "name": "stdout",
     "output_type": "stream",
     "text": [
      "******************RESULTS******************\n",
      "\n",
      " The accuracy score of train Model : 0.9988630157834896\n",
      "\n",
      " The accuracy score test of Model : 0.9561747994652406\n",
      "\n",
      " The ROC AUC score of Model : 0.8359842838147038\n",
      "\n",
      " The CV score of Model : 0.9559530624046019\n",
      "\n",
      " The confusion Matrix :\n",
      "  [[42404   546]\n",
      " [ 1552  3370]]\n",
      "\n",
      " The classification report:\n",
      "                precision    recall  f1-score   support\n",
      "\n",
      "           0       0.96      0.99      0.98     42950\n",
      "           1       0.86      0.68      0.76      4922\n",
      "\n",
      "    accuracy                           0.96     47872\n",
      "   macro avg       0.91      0.84      0.87     47872\n",
      "weighted avg       0.95      0.96      0.95     47872\n",
      "\n",
      "*******************************************\n"
     ]
    }
   ],
   "source": [
    "rand_for = RandomForestClassifier()\n",
    "rand_for.fit(X_train, y_train)\n",
    "y_pred_train = rand_for.predict(X_train)\n",
    "y_pred = rand_for.predict(X_test) \n",
    "print(\"******************RESULTS******************\")\n",
    "print(\"\\n The accuracy score of train Model :\", accuracy_score(y_train,y_pred_train)) \n",
    "\n",
    "print(\"\\n The accuracy score test of Model :\", accuracy_score(y_test,y_pred)) \n",
    "print(\"\\n The ROC AUC score of Model :\", roc_auc_score(y_test,y_pred))\n",
    "\n",
    "CV=cross_val_score(rand_for,X_train, y_train,cv=5)\n",
    "print(\"\\n The CV score of Model :\", CV.mean())\n",
    "\n",
    "print(\"\\n The confusion Matrix :\\n \", confusion_matrix(y_test, y_pred))\n",
    "print(\"\\n The classification report:\\n \",classification_report(y_test, y_pred))\n",
    "      \n",
    "      \n",
    "print(\"*******************************************\")"
   ]
  },
  {
   "cell_type": "markdown",
   "id": "63ad654f",
   "metadata": {},
   "source": [
    "## kNN "
   ]
  },
  {
   "cell_type": "code",
   "execution_count": 35,
   "id": "5efe53de",
   "metadata": {},
   "outputs": [
    {
     "name": "stdout",
     "output_type": "stream",
     "text": [
      "******************RESULTS******************\n",
      "\n",
      " The accuracy score of train Model : 0.9289519154155363\n",
      "\n",
      " The accuracy score test of Model : 0.9174883021390374\n",
      "\n",
      " The ROC AUC score of Model : 0.6326489653022542\n",
      "\n",
      " The CV score of Model : 0.9171970995640825\n",
      "\n",
      " The confusion Matrix :\n",
      "  [[42573   377]\n",
      " [ 3573  1349]]\n",
      "\n",
      " The classification report:\n",
      "                precision    recall  f1-score   support\n",
      "\n",
      "           0       0.92      0.99      0.96     42950\n",
      "           1       0.78      0.27      0.41      4922\n",
      "\n",
      "    accuracy                           0.92     47872\n",
      "   macro avg       0.85      0.63      0.68     47872\n",
      "weighted avg       0.91      0.92      0.90     47872\n",
      "\n",
      "*******************************************\n"
     ]
    }
   ],
   "source": [
    "knn_clf = KNeighborsClassifier()\n",
    "knn_clf.fit(X_train, y_train)\n",
    "\n",
    "y_pred_train = knn_clf.predict(X_train)\n",
    "y_pred = knn_clf.predict(X_test) \n",
    "print(\"******************RESULTS******************\")\n",
    "print(\"\\n The accuracy score of train Model :\", accuracy_score(y_train,y_pred_train)) \n",
    "\n",
    "print(\"\\n The accuracy score test of Model :\", accuracy_score(y_test,y_pred)) \n",
    "print(\"\\n The ROC AUC score of Model :\", roc_auc_score(y_test,y_pred))\n",
    "\n",
    "CV=cross_val_score(knn_clf,X_train, y_train,cv=5)\n",
    "print(\"\\n The CV score of Model :\", CV.mean())\n",
    "\n",
    "print(\"\\n The confusion Matrix :\\n \", confusion_matrix(y_test, y_pred))\n",
    "print(\"\\n The classification report:\\n \",classification_report(y_test, y_pred))\n",
    "      \n",
    "      \n",
    "print(\"*******************************************\")"
   ]
  },
  {
   "cell_type": "markdown",
   "id": "7614d98b",
   "metadata": {},
   "source": [
    "## Multinomial NB"
   ]
  },
  {
   "cell_type": "code",
   "execution_count": 36,
   "id": "6edbe6ee",
   "metadata": {},
   "outputs": [
    {
     "name": "stdout",
     "output_type": "stream",
     "text": [
      "******************RESULTS******************\n",
      "\n",
      " The accuracy score of train Model : 0.9513334944807026\n",
      "\n",
      " The accuracy score test of Model : 0.9472342914438503\n",
      "\n",
      " The ROC AUC score of Model : 0.7588672369286836\n",
      "\n",
      " The CV score of Model : 0.9471526225477417\n",
      "\n",
      " The confusion Matrix :\n",
      "  [[42778   172]\n",
      " [ 2354  2568]]\n",
      "\n",
      " The classification report:\n",
      "                precision    recall  f1-score   support\n",
      "\n",
      "           0       0.95      1.00      0.97     42950\n",
      "           1       0.94      0.52      0.67      4922\n",
      "\n",
      "    accuracy                           0.95     47872\n",
      "   macro avg       0.94      0.76      0.82     47872\n",
      "weighted avg       0.95      0.95      0.94     47872\n",
      "\n",
      "*******************************************\n"
     ]
    }
   ],
   "source": [
    "mnn_clf = MultinomialNB()\n",
    "mnn_clf.fit(X_train, y_train)\n",
    "y_pred_train = mnn_clf.predict(X_train)\n",
    "y_pred = mnn_clf.predict(X_test) \n",
    "print(\"******************RESULTS******************\")\n",
    "print(\"\\n The accuracy score of train Model :\", accuracy_score(y_train,y_pred_train)) \n",
    "\n",
    "print(\"\\n The accuracy score test of Model :\", accuracy_score(y_test,y_pred)) \n",
    "print(\"\\n The ROC AUC score of Model :\", roc_auc_score(y_test,y_pred))\n",
    "\n",
    "CV=cross_val_score(mnn_clf,X_train, y_train,cv=5)\n",
    "print(\"\\n The CV score of Model :\", CV.mean())\n",
    "\n",
    "print(\"\\n The confusion Matrix :\\n \", confusion_matrix(y_test, y_pred))\n",
    "print(\"\\n The classification report:\\n \",classification_report(y_test, y_pred))\n",
    "      \n",
    "      \n",
    "print(\"*******************************************\")"
   ]
  },
  {
   "cell_type": "markdown",
   "id": "92a759b5",
   "metadata": {},
   "source": [
    "## Decision Tree"
   ]
  },
  {
   "cell_type": "code",
   "execution_count": 37,
   "id": "ae7a46c5",
   "metadata": {},
   "outputs": [
    {
     "name": "stdout",
     "output_type": "stream",
     "text": [
      "******************RESULTS******************\n",
      "\n",
      " The accuracy score of train Model : 0.9988719684151156\n",
      "\n",
      " The accuracy score test of Model : 0.9403826871657754\n",
      "\n",
      " The ROC AUC score of Model : 0.8278129554460527\n",
      "\n",
      " The CV score of Model : 0.939704042009464\n",
      "\n",
      " The confusion Matrix :\n",
      "  [[41641  1309]\n",
      " [ 1545  3377]]\n",
      "\n",
      " The classification report:\n",
      "                precision    recall  f1-score   support\n",
      "\n",
      "           0       0.96      0.97      0.97     42950\n",
      "           1       0.72      0.69      0.70      4922\n",
      "\n",
      "    accuracy                           0.94     47872\n",
      "   macro avg       0.84      0.83      0.83     47872\n",
      "weighted avg       0.94      0.94      0.94     47872\n",
      "\n",
      "*******************************************\n"
     ]
    }
   ],
   "source": [
    "dec_clf = DecisionTreeClassifier()\n",
    "dec_clf.fit(X_train, y_train)\n",
    "y_pred_train = dec_clf.predict(X_train)\n",
    "y_pred = dec_clf.predict(X_test) \n",
    "print(\"******************RESULTS******************\")\n",
    "print(\"\\n The accuracy score of train Model :\", accuracy_score(y_train,y_pred_train)) \n",
    "\n",
    "print(\"\\n The accuracy score test of Model :\", accuracy_score(y_test,y_pred)) \n",
    "print(\"\\n The ROC AUC score of Model :\", roc_auc_score(y_test,y_pred))\n",
    "\n",
    "CV=cross_val_score(dec_clf,X_train, y_train,cv=5)\n",
    "print(\"\\n The CV score of Model :\", CV.mean())\n",
    "\n",
    "print(\"\\n The confusion Matrix :\\n \", confusion_matrix(y_test, y_pred))\n",
    "print(\"\\n The classification report:\\n \",classification_report(y_test, y_pred))\n",
    "      \n",
    "      \n",
    "print(\"*******************************************\")"
   ]
  },
  {
   "cell_type": "markdown",
   "id": "afc09459",
   "metadata": {},
   "source": [
    "## Gradient boosting"
   ]
  },
  {
   "cell_type": "code",
   "execution_count": 38,
   "id": "f2be4640",
   "metadata": {},
   "outputs": [
    {
     "name": "stdout",
     "output_type": "stream",
     "text": [
      "******************RESULTS******************\n",
      "\n",
      " The accuracy score of train Model : 0.9419869470630892\n",
      "\n",
      " The accuracy score test of Model : 0.9383773395721925\n",
      "\n",
      " The ROC AUC score of Model : 0.7128271867678273\n",
      "\n",
      " The CV score of Model : 0.9404829228046723\n",
      "\n",
      " The confusion Matrix :\n",
      "  [[42811   139]\n",
      " [ 2811  2111]]\n",
      "\n",
      " The classification report:\n",
      "                precision    recall  f1-score   support\n",
      "\n",
      "           0       0.94      1.00      0.97     42950\n",
      "           1       0.94      0.43      0.59      4922\n",
      "\n",
      "    accuracy                           0.94     47872\n",
      "   macro avg       0.94      0.71      0.78     47872\n",
      "weighted avg       0.94      0.94      0.93     47872\n",
      "\n",
      "*******************************************\n"
     ]
    }
   ],
   "source": [
    "gb_clf = GradientBoostingClassifier()\n",
    "gb_clf.fit(X_train, y_train)\n",
    "y_pred_train = gb_clf.predict(X_train)\n",
    "y_pred = gb_clf.predict(X_test) \n",
    "print(\"******************RESULTS******************\")\n",
    "print(\"\\n The accuracy score of train Model :\", accuracy_score(y_train,y_pred_train)) \n",
    "\n",
    "print(\"\\n The accuracy score test of Model :\", accuracy_score(y_test,y_pred)) \n",
    "print(\"\\n The ROC AUC score of Model :\", roc_auc_score(y_test,y_pred))\n",
    "\n",
    "CV=cross_val_score(gb_clf,X_train, y_train,cv=5)\n",
    "print(\"\\n The CV score of Model :\", CV.mean())\n",
    "\n",
    "print(\"\\n The confusion Matrix :\\n \", confusion_matrix(y_test, y_pred))\n",
    "print(\"\\n The classification report:\\n \",classification_report(y_test, y_pred))\n",
    "      \n",
    "      \n",
    "print(\"*******************************************\")"
   ]
  },
  {
   "cell_type": "markdown",
   "id": "30dcaae2",
   "metadata": {},
   "source": [
    "## Adaboost Classifier"
   ]
  },
  {
   "cell_type": "code",
   "execution_count": 39,
   "id": "23ff7867",
   "metadata": {},
   "outputs": [
    {
     "name": "stdout",
     "output_type": "stream",
     "text": [
      "******************RESULTS******************\n",
      "\n",
      " The accuracy score of train Model : 0.9464990734026267\n",
      "\n",
      " The accuracy score test of Model : 0.945040942513369\n",
      "\n",
      " The ROC AUC score of Model : 0.765919666944024\n",
      "\n",
      " The CV score of Model : 0.9459440204839058\n",
      "\n",
      " The confusion Matrix :\n",
      "  [[42581   369]\n",
      " [ 2262  2660]]\n",
      "\n",
      " The classification report:\n",
      "                precision    recall  f1-score   support\n",
      "\n",
      "           0       0.95      0.99      0.97     42950\n",
      "           1       0.88      0.54      0.67      4922\n",
      "\n",
      "    accuracy                           0.95     47872\n",
      "   macro avg       0.91      0.77      0.82     47872\n",
      "weighted avg       0.94      0.95      0.94     47872\n",
      "\n",
      "*******************************************\n"
     ]
    }
   ],
   "source": [
    "ada_clf = AdaBoostClassifier()\n",
    "ada_clf.fit(X_train, y_train)\n",
    "y_pred_train = ada_clf.predict(X_train)\n",
    "y_pred = ada_clf.predict(X_test) \n",
    "print(\"******************RESULTS******************\")\n",
    "print(\"\\n The accuracy score of train Model :\", accuracy_score(y_train,y_pred_train)) \n",
    "\n",
    "print(\"\\n The accuracy score test of Model :\", accuracy_score(y_test,y_pred)) \n",
    "print(\"\\n The ROC AUC score of Model :\", roc_auc_score(y_test,y_pred))\n",
    "\n",
    "CV=cross_val_score(ada_clf,X_train, y_train,cv=5)\n",
    "print(\"\\n The CV score of Model :\", CV.mean())\n",
    "\n",
    "print(\"\\n The confusion Matrix :\\n \", confusion_matrix(y_test, y_pred))\n",
    "print(\"\\n The classification report:\\n \",classification_report(y_test, y_pred))\n",
    "      \n",
    "      \n",
    "print(\"*******************************************\")"
   ]
  },
  {
   "cell_type": "markdown",
   "id": "1bb80a7c",
   "metadata": {},
   "source": [
    "## SVC"
   ]
  },
  {
   "cell_type": "code",
   "execution_count": 40,
   "id": "15ded040",
   "metadata": {},
   "outputs": [
    {
     "name": "stdout",
     "output_type": "stream",
     "text": [
      "******************RESULTS******************\n",
      "\n",
      " The accuracy score of train Model : 0.9804384998970448\n",
      "\n",
      " The accuracy score test of Model : 0.9565299131016043\n",
      "\n",
      " The ROC AUC score of Model : 0.810908127203466\n",
      "\n",
      " The CV score of Model : 0.9561142099342262\n",
      "\n",
      " The confusion Matrix :\n",
      "  [[42702   248]\n",
      " [ 1833  3089]]\n",
      "\n",
      " The classification report:\n",
      "                precision    recall  f1-score   support\n",
      "\n",
      "           0       0.96      0.99      0.98     42950\n",
      "           1       0.93      0.63      0.75      4922\n",
      "\n",
      "    accuracy                           0.96     47872\n",
      "   macro avg       0.94      0.81      0.86     47872\n",
      "weighted avg       0.96      0.96      0.95     47872\n",
      "\n",
      "*******************************************\n"
     ]
    }
   ],
   "source": [
    "svc_clf = SVC()\n",
    "svc_clf.fit(X_train, y_train)\n",
    "y_pred_train = svc_clf.predict(X_train)\n",
    "y_pred = svc_clf.predict(X_test) \n",
    "print(\"******************RESULTS******************\")\n",
    "print(\"\\n The accuracy score of train Model :\", accuracy_score(y_train,y_pred_train)) \n",
    "\n",
    "print(\"\\n The accuracy score test of Model :\", accuracy_score(y_test,y_pred)) \n",
    "print(\"\\n The ROC AUC score of Model :\", roc_auc_score(y_test,y_pred))\n",
    "\n",
    "CV=cross_val_score(svc_clf,X_train, y_train,cv=5)\n",
    "print(\"\\n The CV score of Model :\", CV.mean())\n",
    "\n",
    "print(\"\\n The confusion Matrix :\\n \", confusion_matrix(y_test, y_pred))\n",
    "print(\"\\n The classification report:\\n \",classification_report(y_test, y_pred))\n",
    "      \n",
    "      \n",
    "print(\"*******************************************\")"
   ]
  },
  {
   "cell_type": "code",
   "execution_count": 45,
   "id": "8af041f9",
   "metadata": {},
   "outputs": [
    {
     "data": {
      "text/plain": [
       "<Figure size 1080x1080 with 0 Axes>"
      ]
     },
     "metadata": {},
     "output_type": "display_data"
    },
    {
     "data": {
      "image/png": "[encoded data removed]",
      "text/plain": [
       "<Figure size 432x288 with 1 Axes>"
      ]
     },
     "metadata": {},
     "output_type": "display_data"
    }
   ],
   "source": [
    "plt.figure(figsize=(15,15), facecolor='white')\n",
    "show = plot_roc_curve(Log_reg,X_test, y_pred)\n",
    "plot_roc_curve(rand_for,X_test, y_pred,ax=show.ax_)\n",
    "plot_roc_curve(mnn_clf,X_test, y_pred,ax=show.ax_)\n",
    "plot_roc_curve(knn_clf,X_test, y_pred,ax=show.ax_)\n",
    "plot_roc_curve(dec_clf,X_test, y_pred,ax=show.ax_)\n",
    "plot_roc_curve(gb_clf,X_test, y_pred,ax=show.ax_) \n",
    "plot_roc_curve(svc_clf,X_test, y_pred,ax=show.ax_) \n",
    "plt.show()"
   ]
  },
  {
   "cell_type": "markdown",
   "id": "5be2762f",
   "metadata": {},
   "source": [
    "## Saving the BEST MODEL\n",
    "\n",
    "We can see from the ROC curve that, SVC is giving the highest area which proves that it is the best model."
   ]
  },
  {
   "cell_type": "code",
   "execution_count": null,
   "id": "637f8c84",
   "metadata": {},
   "outputs": [],
   "source": [
    "import pickle\n",
    "\n",
    "file = open('Malignant Comments classifier.pkl', 'wb')\n",
    "pickle.dump(svc_clf, file)"
   ]
  },
  {
   "cell_type": "code",
   "execution_count": null,
   "id": "0a3ea7ec",
   "metadata": {},
   "outputs": [],
   "source": []
  }
 ],
 "metadata": {
  "kernelspec": {
   "display_name": "Python 3",
   "language": "python",
   "name": "python3"
  },
  "language_info": {
   "codemirror_mode": {
    "name": "ipython",
    "version": 3
   },
   "file_extension": ".py",
   "mimetype": "text/x-python",
   "name": "python",
   "nbconvert_exporter": "python",
   "pygments_lexer": "ipython3",
   "version": "3.8.8"
  }
 },
 "nbformat": 4,
 "nbformat_minor": 5
}
